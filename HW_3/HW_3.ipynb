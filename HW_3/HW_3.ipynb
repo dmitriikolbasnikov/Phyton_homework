{
 "cells": [
  {
   "cell_type": "markdown",
   "metadata": {},
   "source": [
    "Task_1"
   ]
  },
  {
   "cell_type": "code",
   "execution_count": null,
   "metadata": {},
   "outputs": [],
   "source": [
    "def filter_cities(file_name, min_population):\n",
    "    \"\"\" \n",
    "    The function tries to open the input file and reads its content. \n",
    "    If the file is not found, it catches the FileNotFoundError exception and prints an error message.\n",
    "    It then filters the list of cities using a list comprehension, \n",
    "    keeping only the cities with a population greater than or equal to the minimum population specified by the user.\n",
    "    \"\"\"\n",
    "    try:\n",
    "        with open(file_name) as file:\n",
    "            cities = [line.strip().split(\":\") for line in file.readlines()]\n",
    "    except FileNotFoundError:\n",
    "        print('Error: cities.txt file not found!')\n",
    "        return\n",
    "\n",
    "    filtered_cities = [(city, int(population)) for city, population in cities if int(population) >= min_population]\n",
    "\n",
    "    filtered_cities.sort(key=lambda x: x[0])\n",
    "\n",
    "    try:\n",
    "        with open('filtered_cities.txt', \"w\") as file:\n",
    "            for city, population in filtered_cities:\n",
    "                file.write(f'{city}:{population}\\n')\n",
    "    except IOError:\n",
    "        print('Error: unable to write to filtered_cities.txt!')\n",
    "\n",
    "def main():\n",
    "    file_name = 'cities.txt'\n",
    "    try:\n",
    "        min_population = int(input('Enter the minimum population: '))\n",
    "    except ValueError:\n",
    "        print('Error: invalid input. Please enter a valid integer.')\n",
    "        return\n",
    "\n",
    "    filter_cities(min_population)\n",
    "    print('Filtered cities saved to filtered_cities.txt!')\n",
    "\n",
    "if __name__ == '__main__': #the condition is used for validation if the file was run as a main program or imported into another file\n",
    "    main()"
   ]
  },
  {
   "cell_type": "markdown",
   "metadata": {},
   "source": [
    "Task_3"
   ]
  },
  {
   "cell_type": "code",
   "execution_count": null,
   "metadata": {},
   "outputs": [],
   "source": [
    "def get_students_by_course(file_name, course_name):\n",
    "    \"\"\" \n",
    "    The function reads the file and parses its contents into the students_by_course dictionary, \n",
    "    where the keys are the course names and the values are the lists of students enrolled in each course.\n",
    "    \"\"\"\n",
    "    try:\n",
    "        with open(file_name) as file:\n",
    "            data = file.read().splitlines()\n",
    "    except FileNotFoundError:\n",
    "        print(f\"Error: File '{file_name}' not found.\")\n",
    "        return []\n",
    "\n",
    "    students_by_course = {}\n",
    "    for line in data:\n",
    "        name, subjects = line.split(\" : \")\n",
    "        name = name.strip()\n",
    "        subjects = [subject.strip() for subject in subjects.split(\",\")]\n",
    "        for subject in subjects:\n",
    "            if subject not in students_by_course.keys():\n",
    "                students_by_course[subject] = []\n",
    "            students_by_course[subject].append(name)\n",
    "\n",
    "    if course_name in students_by_course.keys():\n",
    "        return students_by_course[course_name]\n",
    "    else:\n",
    "        print(f\"Error: Course '{course_name}' not found.\")\n",
    "        return []\n",
    "\n",
    "def main():\n",
    "    file_name = 'input.txt'\n",
    "    course_name = input('Enter course name: ')\n",
    "    students = get_students_by_course(file_name, course_name)\n",
    "    if students:\n",
    "        print(f\"Students enrolled in {course_name}: {', '.join(students)}\")\n",
    "\n",
    "if __name__ == '__main__':\n",
    "    main()\n"
   ]
  }
 ],
 "metadata": {
  "kernelspec": {
   "display_name": "Python 3",
   "language": "python",
   "name": "python3"
  },
  "language_info": {
   "codemirror_mode": {
    "name": "ipython",
    "version": 3
   },
   "file_extension": ".py",
   "mimetype": "text/x-python",
   "name": "python",
   "nbconvert_exporter": "python",
   "pygments_lexer": "ipython3",
   "version": "3.11.9"
  }
 },
 "nbformat": 4,
 "nbformat_minor": 2
}
