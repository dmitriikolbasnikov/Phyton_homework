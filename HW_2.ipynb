{
 "cells": [
  {
   "cell_type": "markdown",
   "metadata": {},
   "source": [
    "Task_1"
   ]
  },
  {
   "cell_type": "code",
   "execution_count": 13,
   "metadata": {},
   "outputs": [
    {
     "name": "stdout",
     "output_type": "stream",
     "text": [
      "Processed data has been written to output.txt\n"
     ]
    }
   ],
   "source": [
    "def read_grades(file_path):\n",
    "    \"\"\" \n",
    "    The function reads data from a file\n",
    "    and saves it in list-list format (tuple)\n",
    "    \"\"\"\n",
    "    try:\n",
    "        with open(file_path) as file:\n",
    "            data = file.readlines()\n",
    "        return [line.strip().split(',') for line in data]\n",
    "    except FileNotFoundError:\n",
    "        print(f\"File {file_path} not found\")\n",
    "        return []\n",
    "\n",
    "def calculate_average(grades):\n",
    "    \"\"\" \n",
    "    The function is designed to calculate the average value,\n",
    "    the input is a list of lists with names and grades\n",
    "    \"\"\"\n",
    "    if not grades:\n",
    "        return 0\n",
    "    total = sum(int(grade) for name, grade in grades)\n",
    "    return total / len(grades)\n",
    "\n",
    "def filter_above_average(grades, average):\n",
    "    \"\"\" \n",
    "    The function returns a list with the names of those students\n",
    "    whose grades are higher then the average\n",
    "    \"\"\"\n",
    "    return [name for name, grade in grades if int(grade) > average]\n",
    "\n",
    "def write_above_average_students(file_path, students):\n",
    "    \"\"\" \n",
    "    The function writes to the file the names of those students\n",
    "    whose grades are above the average\n",
    "    \"\"\"\n",
    "    with open(file_path, 'w') as file:\n",
    "        for student in students:\n",
    "            file.write(student + '\\n')\n",
    "\n",
    "def main():\n",
    "    input_file = 'input.txt'\n",
    "    output_file = 'output.txt'\n",
    "    \n",
    "    grades = read_grades(input_file)\n",
    "    \n",
    "    if not grades:\n",
    "        print(\"No valid data to process, check the input.txt file\")\n",
    "        return\n",
    "    \n",
    "    average_grade = calculate_average(grades)\n",
    "    above_average_students = filter_above_average(grades, average_grade)\n",
    "    \n",
    "    write_above_average_students(output_file, above_average_students)\n",
    "    print(f\"Processed data has been written to {output_file}\")\n",
    "\n",
    "main()"
   ]
  },
  {
   "cell_type": "markdown",
   "metadata": {},
   "source": [
    "Task_2"
   ]
  },
  {
   "cell_type": "code",
   "execution_count": null,
   "metadata": {},
   "outputs": [],
   "source": [
    "def read_lines(file_path):\n",
    "    \"\"\" \n",
    "    The function reads lines from a file and returns a list of lines\n",
    "    with no leading or trailing spaces. Handles a FileNotFoundError exception if no file is found\n",
    "    \"\"\"\n",
    "    try:\n",
    "        with open(file_path) as file:\n",
    "            return [line.strip() for line in file.readlines()]\n",
    "    except FileNotFoundError:\n",
    "        print(f\"File {file_path} not found\")\n",
    "        return []\n",
    "\n",
    "def process_line(line, chars_to_remove):\n",
    "    \"\"\" \n",
    "    The function removes the specified characters and ; from the right edge of the line.\n",
    "    Flips the line backwards\n",
    "    \"\"\"\n",
    "    trimmed_line = line.rstrip(chars_to_remove + ';')\n",
    "    reversed_line = trimmed_line[::-1]\n",
    "    return reversed_line\n",
    "\n",
    "def write_lines(file_path, lines):\n",
    "    \"\"\" \n",
    "    The function writes lines to a output.txt file\n",
    "    \"\"\"\n",
    "    with open(file_path, 'w') as file:\n",
    "        for line in lines:\n",
    "            file.write(line + '\\n')\n",
    "\n",
    "def main():\n",
    "    input_file = 'input.txt'\n",
    "    output_file = 'output.txt'\n",
    "    \n",
    "    lines = read_lines(input_file)\n",
    "    \n",
    "    if not lines:\n",
    "        print(\"No valid data to process.\")\n",
    "        return\n",
    "    \n",
    "    chars_to_remove = input(\"Enter characters to remove from the right end of the string: \")\n",
    "    \n",
    "    processed_lines = [process_line(line, chars_to_remove) for line in lines]\n",
    "    \n",
    "    write_lines(output_file, processed_lines)\n",
    "    print(f\"Processed data has been written to {output_file}\")\n",
    "\n",
    "\n",
    "main()"
   ]
  }
 ],
 "metadata": {
  "kernelspec": {
   "display_name": "Python 3",
   "language": "python",
   "name": "python3"
  },
  "language_info": {
   "codemirror_mode": {
    "name": "ipython",
    "version": 3
   },
   "file_extension": ".py",
   "mimetype": "text/x-python",
   "name": "python",
   "nbconvert_exporter": "python",
   "pygments_lexer": "ipython3",
   "version": "3.11.9"
  }
 },
 "nbformat": 4,
 "nbformat_minor": 2
}
