{
 "cells": [
  {
   "cell_type": "markdown",
   "metadata": {},
   "source": [
    "Homework_1\n",
    "\n",
    "Task_3"
   ]
  },
  {
   "cell_type": "code",
   "execution_count": null,
   "metadata": {},
   "outputs": [],
   "source": [
    "while True:\n",
    "    try:\n",
    "        user_input = int(input(\"Введите число: \"))\n",
    "        break\n",
    "    except ValueError:\n",
    "        print(\"Пожалуйста, введите корректное число: \")\n",
    "\n",
    "user_input = abs(user_input)\n",
    "sum_of_digits = sum(int(digit) for digit in str(user_input))\n",
    "\n",
    "while sum_of_digits > 9:\n",
    "    user_input = sum_of_digits\n",
    "    sum_of_digits = sum(int(digit) for digit in str(user_input))\n",
    "\n",
    "print(f\"Итоговая сумма чисел равна: {sum_of_digits}\")\n"
   ]
  },
  {
   "cell_type": "markdown",
   "metadata": {},
   "source": [
    "Task_1"
   ]
  },
  {
   "cell_type": "code",
   "execution_count": null,
   "metadata": {},
   "outputs": [],
   "source": [
    "while True:\n",
    "    try:\n",
    "        user_input = int(input(\"Введите высоту треугольника (N - натуральное число): \"))\n",
    "        if user_input > 0:\n",
    "            break\n",
    "        else:\n",
    "            print(\"Пожалуйста, введите положительное число.\")\n",
    "    except ValueError:\n",
    "        print(\"Пожалуйста, введите корректное число.\")\n",
    "\n",
    "n = user_input\n",
    "\n",
    "for i in range(n):\n",
    "    stars = '*' * (2 * i + 1)\n",
    "    spaces = ' ' * (n - i - 1)\n",
    "    print(spaces + stars)"
   ]
  },
  {
   "cell_type": "markdown",
   "metadata": {},
   "source": [
    "Task_2"
   ]
  },
  {
   "cell_type": "code",
   "execution_count": null,
   "metadata": {},
   "outputs": [],
   "source": [
    "while True:\n",
    "    try:\n",
    "        user_input = int(input(\"Введите число от 1 до 999: \"))\n",
    "        if 1 <= user_input <= 999:\n",
    "            break\n",
    "        else:\n",
    "            print(\"Пожалуйста, введите число от 1 до 999: \")\n",
    "    except ValueError:\n",
    "        print(\"Пожалуйста, введите корректное число: \")\n",
    "\n",
    "number = user_input\n",
    "\n",
    "dict_hundreds = {\n",
    "    1: \"сто\",\n",
    "    2: \"двести\",\n",
    "    3: \"триста\",\n",
    "    4: \"четыреста\",\n",
    "    5: \"пятьсот\",\n",
    "    6: \"шестьсот\",\n",
    "    7: \"семьсот\",\n",
    "    8: \"восемьсот\",\n",
    "    9: \"девятьсот\"\n",
    "}\n",
    "\n",
    "dict_tens = {\n",
    "    2: \"двадцать\",\n",
    "    3: \"тридцать\",\n",
    "    4: \"сорок\",\n",
    "    5: \"пятьдесят\",\n",
    "    6: \"шестьдесят\",\n",
    "    7: \"семьдесят\",\n",
    "    8: \"восемьдесят\",\n",
    "    9: \"девяносто\"\n",
    "}\n",
    "\n",
    "dict_units = {\n",
    "    1: \"один\",\n",
    "    2: \"два\",\n",
    "    3: \"три\",\n",
    "    4: \"четыре\",\n",
    "    5: \"пять\",\n",
    "    6: \"шесть\",\n",
    "    7: \"семь\",\n",
    "    8: \"восемь\",\n",
    "    9: \"девять\",\n",
    "    10: \"десять\",\n",
    "    11: \"одиннадцать\",\n",
    "    12: \"двенадцать\",\n",
    "    13: \"тринадцать\",\n",
    "    14: \"четырнадцать\",\n",
    "    15: \"пятнадцать\",\n",
    "    16: \"шестнадцать\",\n",
    "    17: \"семнадцать\",\n",
    "    18: \"восемнадцать\",\n",
    "    19: \"девятнадцать\"\n",
    "}\n",
    "\n",
    "hundreds = number // 100\n",
    "tens = (number % 100) // 10\n",
    "units = number % 10\n",
    "result = \"\"\n",
    "flag = True\n",
    "\n",
    "if hundreds > 0:\n",
    "    result += dict_hundreds[hundreds] + \" \"\n",
    "if tens > 1:\n",
    "    result += dict_tens[tens] + \" \"\n",
    "elif tens == 1:\n",
    "    result += dict_units[number % 100] + \" \"\n",
    "    flag = False\n",
    "if units > 0 and flag == True:\n",
    "    result += dict_units[units] + \" \"\n",
    "\n",
    "\n",
    "print(result.strip())\n"
   ]
  }
 ],
 "metadata": {
  "kernelspec": {
   "display_name": "Python 3",
   "language": "python",
   "name": "python3"
  },
  "language_info": {
   "codemirror_mode": {
    "name": "ipython",
    "version": 3
   },
   "file_extension": ".py",
   "mimetype": "text/x-python",
   "name": "python",
   "nbconvert_exporter": "python",
   "pygments_lexer": "ipython3",
   "version": "3.11.9"
  }
 },
 "nbformat": 4,
 "nbformat_minor": 2
}
