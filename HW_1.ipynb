{
 "cells": [
  {
   "cell_type": "markdown",
   "metadata": {},
   "source": [
    "Homework_1\n",
    "\n",
    "Task_3"
   ]
  },
  {
   "cell_type": "code",
   "execution_count": null,
   "metadata": {},
   "outputs": [],
   "source": [
    "while True:\n",
    "    try:\n",
    "        user_input = int(input(\"Введите число: \"))\n",
    "        break\n",
    "    except ValueError:\n",
    "        print(\"Пожалуйста, введите корректное число: \")\n",
    "\n",
    "user_input = abs(user_input)\n",
    "sum_of_digits = sum(int(digit) for digit in str(user_input))\n",
    "\n",
    "while sum_of_digits > 9:\n",
    "    user_input = sum_of_digits\n",
    "    sum_of_digits = sum(int(digit) for digit in str(user_input))\n",
    "\n",
    "print(f\"Итоговая сумма чисел равна: {sum_of_digits}\")\n"
   ]
  },
  {
   "cell_type": "markdown",
   "metadata": {},
   "source": [
    "Task_1"
   ]
  },
  {
   "cell_type": "code",
   "execution_count": null,
   "metadata": {},
   "outputs": [],
   "source": [
    "while True:\n",
    "    try:\n",
    "        user_input = int(input(\"Введите высоту треугольника (N - натуральное число): \"))\n",
    "        if user_input > 0:\n",
    "            break\n",
    "        else:\n",
    "            print(\"Пожалуйста, введите положительное число.\")\n",
    "    except ValueError:\n",
    "        print(\"Пожалуйста, введите корректное число.\")\n",
    "\n",
    "n = user_input\n",
    "\n",
    "for i in range(n):\n",
    "    stars = '*' * (2 * i + 1)\n",
    "    spaces = ' ' * (n - i - 1)\n",
    "    print(spaces + stars)"
   ]
  }
 ],
 "metadata": {
  "kernelspec": {
   "display_name": "Python 3",
   "language": "python",
   "name": "python3"
  },
  "language_info": {
   "codemirror_mode": {
    "name": "ipython",
    "version": 3
   },
   "file_extension": ".py",
   "mimetype": "text/x-python",
   "name": "python",
   "nbconvert_exporter": "python",
   "pygments_lexer": "ipython3",
   "version": "3.11.9"
  }
 },
 "nbformat": 4,
 "nbformat_minor": 2
}
